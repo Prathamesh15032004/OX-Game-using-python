{
 "cells": [
  {
   "cell_type": "code",
   "execution_count": 2,
   "id": "42264786-b43f-47c6-b484-bb0e50a8265c",
   "metadata": {},
   "outputs": [],
   "source": [
    "import tkinter as tk\n",
    "from tkinter import messagebox"
   ]
  },
  {
   "cell_type": "code",
   "execution_count": 4,
   "id": "29144b6a-4a42-4b3d-b905-cd7ad72a1472",
   "metadata": {},
   "outputs": [],
   "source": [
    "class TicTacToe:\n",
    "    def __init__(self, root):\n",
    "        self.root = root\n",
    "        self.root.title(\"Tic-Tac-Toe\")\n",
    "        self.board = [' ' for _ in range(9)]\n",
    "        self.current_player = 'X'\n",
    "        self.buttons = []\n",
    "        self.create_buttons()\n",
    "\n",
    "    def create_buttons(self):\n",
    "        for i in range(9):\n",
    "            button = tk.Button(self.root, text=' ', font=('normal', 40), width=5, height=2,\n",
    "                               command=lambda i=i: self.on_button_click(i))\n",
    "            button.grid(row=i//3, column=i%3)\n",
    "            self.buttons.append(button)\n",
    "\n",
    "    def on_button_click(self, index):\n",
    "        if self.board[index] == ' ':\n",
    "            self.board[index] = self.current_player\n",
    "            self.buttons[index].config(text=self.current_player)\n",
    "            if self.check_win(self.current_player):\n",
    "                messagebox.showinfo(\"Tic-Tac-Toe\", f\"Player {self.current_player} wins!\")\n",
    "                self.reset_game()\n",
    "            elif self.check_draw():\n",
    "                messagebox.showinfo(\"Tic-Tac-Toe\", \"It's a draw!\")\n",
    "                self.reset_game()\n",
    "            else:\n",
    "                self.current_player = 'O' if self.current_player == 'X' else 'X'\n",
    "\n",
    "    def check_win(self, player):\n",
    "        win_conditions = [\n",
    "            [self.board[0], self.board[1], self.board[2]],\n",
    "            [self.board[3], self.board[4], self.board[5]],\n",
    "            [self.board[6], self.board[7], self.board[8]],\n",
    "            [self.board[0], self.board[3], self.board[6]],\n",
    "            [self.board[1], self.board[4], self.board[7]],\n",
    "            [self.board[2], self.board[5], self.board[8]],\n",
    "            [self.board[0], self.board[4], self.board[8]],\n",
    "            [self.board[2], self.board[4], self.board[6]]\n",
    "        ]\n",
    "        return [player, player, player] in win_conditions\n",
    "\n",
    "    def check_draw(self):\n",
    "        return ' ' not in self.board\n",
    "\n",
    "    def reset_game(self):\n",
    "        self.board = [' ' for _ in range(9)]\n",
    "        self.current_player = 'X'\n",
    "        for button in self.buttons:\n",
    "            button.config(text=' ')\n",
    "\n",
    "if __name__ == \"__main__\":\n",
    "    root = tk.Tk()\n",
    "    game = TicTacToe(root)\n",
    "    root.mainloop()\n"
   ]
  },
  {
   "cell_type": "code",
   "execution_count": null,
   "id": "1d1f859c-6b19-4c1b-9cc4-2c9a6f9f55a9",
   "metadata": {},
   "outputs": [],
   "source": []
  }
 ],
 "metadata": {
  "kernelspec": {
   "display_name": "Python 3 (ipykernel)",
   "language": "python",
   "name": "python3"
  },
  "language_info": {
   "codemirror_mode": {
    "name": "ipython",
    "version": 3
   },
   "file_extension": ".py",
   "mimetype": "text/x-python",
   "name": "python",
   "nbconvert_exporter": "python",
   "pygments_lexer": "ipython3",
   "version": "3.12.4"
  }
 },
 "nbformat": 4,
 "nbformat_minor": 5
}
